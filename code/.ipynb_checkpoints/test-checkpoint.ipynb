{
 "cells": [
  {
   "cell_type": "markdown",
   "metadata": {},
   "source": [
    "# Test the differents function\n",
    "author : Sofiane Horache"
   ]
  },
  {
   "cell_type": "code",
   "execution_count": 1,
   "metadata": {
    "collapsed": false
   },
   "outputs": [],
   "source": [
    "# library used\n",
    "import numpy as np\n",
    "import pandas as pd\n",
    "from utils.ply import *\n",
    "from LOD_descriptor import pc_to_patches, patches_to_id, id_to_dic\n",
    "import matplotlib.pyplot as plt\n",
    "from octree import *\n",
    "%matplotlib inline"
   ]
  },
  {
   "cell_type": "code",
   "execution_count": 2,
   "metadata": {
    "collapsed": false
   },
   "outputs": [],
   "source": [
    "# load data\n",
    "filepath = \"../data/GT_Madame1_2.ply\"\n",
    "data = read_ply(filepath)\n",
    "xyz = np.vstack((data['x'], data['y'], data['z'])).T\n",
    "y = data['class']"
   ]
  },
  {
   "cell_type": "code",
   "execution_count": 3,
   "metadata": {
    "collapsed": false
   },
   "outputs": [
    {
     "name": "stdout",
     "output_type": "stream",
     "text": [
      "Size of the points cloud : (10000000, 3)\n",
      "Number of class : 15\n",
      "[  3.00000000e+00   4.76941700e+06   4.33305900e+06   0.00000000e+00\n",
      "   7.90822000e+05   0.00000000e+00   0.00000000e+00   0.00000000e+00\n",
      "   0.00000000e+00   3.65600000e+03   8.17450000e+04   0.00000000e+00\n",
      "   0.00000000e+00   0.00000000e+00   1.14630000e+04   2.54200000e+03\n",
      "   0.00000000e+00   0.00000000e+00   0.00000000e+00   3.03000000e+03\n",
      "   9.83000000e+02   1.11000000e+02   1.91500000e+03   3.84000000e+02\n",
      "   8.70000000e+02]\n"
     ]
    },
    {
     "data": {
      "image/png": "[encoded data removed]",
      "text/plain": [
       "<matplotlib.figure.Figure at 0x7f71652305c0>"
      ]
     },
     "metadata": {},
     "output_type": "display_data"
    }
   ],
   "source": [
    "# print some info\n",
    "print(\"Size of the points cloud :\", xyz.shape)\n",
    "print(\"Number of class :\", len(np.unique(y)))\n",
    "h = plt.hist(y, 25)\n",
    "print(h[0])"
   ]
  },
  {
   "cell_type": "markdown",
   "metadata": {},
   "source": [
    "conclusion: The classes are inequal, we will have to select the training set.\n",
    "## 1] We create divide the points cloud into patches\n",
    "\n",
    "The problem here is the author didn't precise how we extract the patches. Maybe the patches have a kind of shape. So We suppose patches are just a group of points in a square of fixed size. We will not use the PCS."
   ]
  },
  {
   "cell_type": "code",
   "execution_count": 4,
   "metadata": {
    "collapsed": false
   },
   "outputs": [],
   "source": [
    "# We test here id_to_dic\n",
    "\n",
    "a = 2 * np.random.randn(100000, 3)\n",
    "p = pc_to_patches(a, 1)\n",
    "id_p = patches_to_id(p, a.shape[0])\n",
    "new_p = id_to_dic(id_p)\n",
    "for k in p.keys():\n",
    "    if(set(new_p[k])!= set(p[k])):\n",
    "        print(error)\n",
    "        \n",
    "# It seems to work\n",
    "# but it is long"
   ]
  },
  {
   "cell_type": "code",
   "execution_count": null,
   "metadata": {
    "collapsed": true
   },
   "outputs": [],
   "source": []
  },
  {
   "cell_type": "code",
   "execution_count": 6,
   "metadata": {
    "collapsed": false
   },
   "outputs": [],
   "source": [
    "patches = pc_to_patches(xyz, 1) # very long !!!\n",
    "id_patches = patches_to_id(patches, xyz.shape[0])\n",
    "write_ply(\"../data/paris_patched.ply\",[xyz, id_patches, y],['x', 'y', 'z', 'patches', 'class'])"
   ]
  },
  {
   "cell_type": "code",
   "execution_count": 5,
   "metadata": {
    "collapsed": false
   },
   "outputs": [],
   "source": [
    "data = read_ply('../data/paris_patched.ply')\n",
    "xyz = np.vstack((data['x'], data['y'], data['z'])).T\n",
    "y = data['class']\n",
    "id_patches = data['patches']\n",
    "#patches = id_to_dic(id_patches)"
   ]
  },
  {
   "cell_type": "markdown",
   "metadata": {},
   "source": [
    "## 2]  computation of the descriptors\n",
    "Here we will compute \n",
    "### 2.1 the octree structure\n",
    "\n",
    "We will test the octree structure with a 3D sphere(gaussian law) and a cube(uniform low). We will also try for a plane and a line."
   ]
  },
  {
   "cell_type": "code",
   "execution_count": 6,
   "metadata": {
    "collapsed": false
   },
   "outputs": [
    {
     "name": "stdout",
     "output_type": "stream",
     "text": [
      "For a ball\n",
      "Number of cube per LOD : [   1.    8.   49.  204.]\n",
      "For a a cube\n",
      "Number of cube per LOD : [   1.    8.   64.  445.]\n",
      "For a line\n",
      "Number of cube per LOD : [ 1.  2.  4.  8.]\n",
      "For two lines\n",
      "Number of cube per LOD : [  1.   4.  11.  27.]\n",
      "For a horizontal plane\n",
      "Number of cube per LOD : [  1.   4.  16.  64.]\n",
      "For a diagonal plane\n",
      "Number of cube per LOD : [  1.   6.  24.  98.]\n",
      "For two planes\n",
      "Number of cube per LOD : [   1.    7.   39.  174.]\n"
     ]
    }
   ],
   "source": [
    "# LOD for a ball\n",
    "ball = np.random.randn(1000, 3)\n",
    "tree = Octree(3, ball)\n",
    "print(\"For a ball\")\n",
    "print(\"Number of cube per LOD :\", tree.divide())\n",
    "\n",
    "#LOD for a cube\n",
    "cube = np.random.rand(1000, 3)\n",
    "tree = Octree(3, cube)\n",
    "print(\"For a a cube\")\n",
    "print(\"Number of cube per LOD :\", tree.divide())\n",
    "\n",
    "#LOD for a line\n",
    "a, b = np.random.rand(2)\n",
    "x = np.random.rand(1000, 1)\n",
    "line = np.hstack((x, a*x, b*x))\n",
    "tree = Octree(3, line)\n",
    "print(\"For a line\")\n",
    "print(\"Number of cube per LOD :\", tree.divide())\n",
    "\n",
    "#LOD for two lines\n",
    "a, b = np.random.rand(2)\n",
    "x = np.random.rand(500, 1)\n",
    "line1 = np.hstack((x, a*x, b*x))\n",
    "a, b = np.random.rand(2)\n",
    "line2 = np.hstack((x, a*x, b*x))\n",
    "two_lines = np.vstack((line1, line2))\n",
    "tree = Octree(3, two_lines)\n",
    "print(\"For two lines\")\n",
    "print(\"Number of cube per LOD :\", tree.divide())\n",
    "\n",
    "\n",
    "#LOD for a horizontal plane\n",
    "a, b = np.random.rand(2)\n",
    "xy = np.random.rand(1000, 2)\n",
    "plane = np.hstack((xy, (0*xy[:, 0]+b*xy[:, 1]).reshape(-1, 1)))\n",
    "tree = Octree(3, plane)\n",
    "print(\"For a horizontal plane\")\n",
    "print(\"Number of cube per LOD :\", tree.divide())\n",
    "\n",
    "#LOD for a diagonal plane\n",
    "a, b = np.random.rand(2)\n",
    "xy = np.random.rand(1000, 2)\n",
    "plane = np.hstack((xy, (a*xy[:, 0]+b*xy[:, 1]).reshape(-1, 1)))\n",
    "tree = Octree(3, plane)\n",
    "print(\"For a diagonal plane\")\n",
    "print(\"Number of cube per LOD :\", tree.divide())\n",
    "\n",
    "#LOD for 2 planes\n",
    "\n",
    "a, b = np.random.rand(2)\n",
    "xy = np.random.rand(500, 2)\n",
    "plane1 = np.hstack((xy, (a*xy[:, 0]+b*xy[:, 1]).reshape(-1, 1)))\n",
    "a, b = np.random.rand(2)\n",
    "plane2 = np.hstack((xy, (a*xy[:, 0]+b*xy[:, 1]).reshape(-1, 1)))\n",
    "two_planes = np.vstack((plane1, plane2))\n",
    "tree = Octree(3, two_planes)\n",
    "print(\"For two planes\")\n",
    "print(\"Number of cube per LOD :\", tree.divide())\n",
    "\n",
    "\n",
    " \n"
   ]
  },
  {
   "cell_type": "code",
   "execution_count": 39,
   "metadata": {
    "collapsed": false
   },
   "outputs": [
    {
     "name": "stdout",
     "output_type": "stream",
     "text": [
      "LOD 1:\n",
      "6.0\n",
      "6.0\n",
      "6.0\n",
      "LOD 2:\n",
      "28.0\n",
      "28.0\n",
      "27.0\n",
      "LOD 3:\n",
      "111.0\n",
      "111.0\n",
      "103.0\n"
     ]
    }
   ],
   "source": [
    "# We can compute feature for each patch\n",
    "a, b = np.random.rand(2)\n",
    "xy = np.random.rand(1000, 2)\n",
    "plane = np.hstack((xy, (a*xy[:, 0]+b*xy[:, 1]).reshape(-1, 1)))\n",
    "tree = Octree(3, plane)\n",
    "ppl1 = tree.divide()\n",
    "phi1 = tree.get_phi()\n",
    "\n",
    "\n",
    "xy = 4+ np.random.rand(1000, 2)\n",
    "#a, b = np.random.rand(2)\n",
    "plane = np.hstack((xy, (4*a*xy[:, 0]+4*b*xy[:, 1]).reshape(-1, 1)))\n",
    "tree = Octree(3, plane)\n",
    "ppl2 = tree.divide()\n",
    "phi2 = tree.get_phi()\n",
    "\n",
    "#compare plan\n",
    "for i in range(1,4):\n",
    "    print(\"LOD %d:\"%i)\n",
    "    print(np.dot(phi1[i], phi1[i]))\n",
    "    print(np.dot(phi2[i], phi2[i]))\n",
    "    print(np.dot(phi1[i], phi2[i]))\n",
    "\n",
    "# seems coherent"
   ]
  },
  {
   "cell_type": "markdown",
   "metadata": {},
   "source": [
    "Conclusion : for low dimension shape, we are rather robust to count the dimensions, but for 3D objects, we need a lot of points(see the cube or the ball). For the cube, as we have some holes(because of random variables. We don't have a full precision so the estimation is not 100% exact).\n",
    "Theoretical consistency for a ball.\n",
    "\n",
    "Also the problem will be if we have two shapes in our octree. Then the dimension is harder to guess\n",
    "\n",
    "The second test is to see for each level which cube is non empty. the indexation is a bit weird. So we have to change it. We therefore have a way to compare the differents patches at each level\n",
    "\n",
    "### 2.2 the descriptors"
   ]
  },
  {
   "cell_type": "code",
   "execution_count": 10,
   "metadata": {
    "collapsed": false
   },
   "outputs": [
    {
     "name": "stdout",
     "output_type": "stream",
     "text": [
      "9942\n",
      "10000000\n"
     ]
    }
   ],
   "source": [
    "# We will compute the ppl for each patches\n",
    "print(len(np.unique(id_patches)))\n"
   ]
  }
 ],
 "metadata": {
  "kernelspec": {
   "display_name": "Python [Root]",
   "language": "python",
   "name": "Python [Root]"
  },
  "language_info": {
   "codemirror_mode": {
    "name": "ipython",
    "version": 3
   },
   "file_extension": ".py",
   "mimetype": "text/x-python",
   "name": "python",
   "nbconvert_exporter": "python",
   "pygments_lexer": "ipython3",
   "version": "3.5.2"
  }
 },
 "nbformat": 4,
 "nbformat_minor": 2
}
