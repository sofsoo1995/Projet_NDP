{
 "cells": [
  {
   "cell_type": "markdown",
   "metadata": {},
   "source": [
    "# Test the differents function\n",
    "author : Sofiane Horache"
   ]
  },
  {
   "cell_type": "code",
   "execution_count": 37,
   "metadata": {
    "collapsed": false
   },
   "outputs": [],
   "source": [
    "# library used\n",
    "import numpy as np\n",
    "import pandas as pd\n",
    "from utils.ply import *\n",
    "from LOD_descriptor import pc_to_patches, patches_to_id, labelize_patch, id_to_dic\n",
    "import matplotlib.pyplot as plt\n",
    "from octree import *\n",
    "from sklearn.preprocessing import LabelBinarizer\n",
    "from sklearn.metrics import confusion_matrix\n",
    "import itertools\n",
    "%matplotlib inline"
   ]
  },
  {
   "cell_type": "code",
   "execution_count": 2,
   "metadata": {
    "collapsed": false
   },
   "outputs": [],
   "source": [
    "# load data\n",
    "filepath = \"../data/GT_Madame1_2.ply\"\n",
    "data = read_ply(filepath)\n",
    "xyz = np.vstack((data['x'], data['y'], data['z'])).T\n",
    "label = data['class']"
   ]
  },
  {
   "cell_type": "code",
   "execution_count": 3,
   "metadata": {
    "collapsed": false
   },
   "outputs": [
    {
     "name": "stdout",
     "output_type": "stream",
     "text": [
      "Size of the points cloud : (10000000, 3)\n",
      "Number of class : 15\n",
      "[  3.00000000e+00   4.76941700e+06   4.33305900e+06   0.00000000e+00\n",
      "   7.90822000e+05   0.00000000e+00   0.00000000e+00   0.00000000e+00\n",
      "   0.00000000e+00   3.65600000e+03   8.17450000e+04   0.00000000e+00\n",
      "   0.00000000e+00   0.00000000e+00   1.14630000e+04   2.54200000e+03\n",
      "   0.00000000e+00   0.00000000e+00   0.00000000e+00   3.03000000e+03\n",
      "   9.83000000e+02   1.11000000e+02   1.91500000e+03   3.84000000e+02\n",
      "   8.70000000e+02]\n"
     ]
    },
    {
     "data": {
      "image/png": "[encoded data removed]",
      "text/plain": [
       "<matplotlib.figure.Figure at 0x7f47bc04f710>"
      ]
     },
     "metadata": {},
     "output_type": "display_data"
    }
   ],
   "source": [
    "# print some info\n",
    "print(\"Size of the points cloud :\", xyz.shape)\n",
    "print(\"Number of class :\", len(np.unique(label)))\n",
    "h = plt.hist(label.copy(), 25)\n",
    "print(h[0])"
   ]
  },
  {
   "cell_type": "markdown",
   "metadata": {},
   "source": [
    "conclusion: The classes are inequal, we will have to select the training set.\n",
    "## 1] We create divide the points cloud into patches\n",
    "\n",
    "The problem here is the author didn't precise how we extract the patches. Maybe the patches have a kind of shape. So We suppose patches are just a group of points in a square of fixed size. We will not use the PCS."
   ]
  },
  {
   "cell_type": "code",
   "execution_count": 6,
   "metadata": {
    "collapsed": false
   },
   "outputs": [],
   "source": [
    "# We test here id_to_dic\n",
    "\n",
    "a = 2 * np.random.randn(100000, 3)\n",
    "p = pc_to_patches(a, 1)\n",
    "id_p = patches_to_id(p, a.shape[0])\n",
    "new_p = id_to_dic(id_p)\n",
    "for k in p.keys():\n",
    "    if(set(new_p[k])!= set(p[k])):\n",
    "        print(error)\n",
    "        \n",
    "# It seems to work\n",
    "# but it is long and useless"
   ]
  },
  {
   "cell_type": "code",
   "execution_count": null,
   "metadata": {
    "collapsed": true
   },
   "outputs": [],
   "source": []
  },
  {
   "cell_type": "code",
   "execution_count": 30,
   "metadata": {
    "collapsed": false
   },
   "outputs": [
    {
     "ename": "ValueError",
     "evalue": "all the input arrays must have same number of dimensions",
     "output_type": "error",
     "traceback": [
      "\u001b[0;31m---------------------------------------------------------------------------\u001b[0m",
      "\u001b[0;31mValueError\u001b[0m                                Traceback (most recent call last)",
      "\u001b[0;32m<ipython-input-30-ed41bd99d6cf>\u001b[0m in \u001b[0;36m<module>\u001b[0;34m()\u001b[0m\n\u001b[1;32m      1\u001b[0m \u001b[0mpatches\u001b[0m \u001b[0;34m=\u001b[0m \u001b[0mpc_to_patches\u001b[0m\u001b[0;34m(\u001b[0m\u001b[0mxyz\u001b[0m\u001b[0;34m,\u001b[0m \u001b[0;36m1\u001b[0m\u001b[0;34m)\u001b[0m \u001b[0;31m# very long !!!\u001b[0m\u001b[0;34m\u001b[0m\u001b[0m\n\u001b[1;32m      2\u001b[0m \u001b[0mid_patches\u001b[0m \u001b[0;34m=\u001b[0m \u001b[0mpatches_to_id\u001b[0m\u001b[0;34m(\u001b[0m\u001b[0mpatches\u001b[0m\u001b[0;34m,\u001b[0m \u001b[0mxyz\u001b[0m\u001b[0;34m.\u001b[0m\u001b[0mshape\u001b[0m\u001b[0;34m[\u001b[0m\u001b[0;36m0\u001b[0m\u001b[0;34m]\u001b[0m\u001b[0;34m)\u001b[0m\u001b[0;34m\u001b[0m\u001b[0m\n\u001b[0;32m----> 3\u001b[0;31m \u001b[0mwrite_ply\u001b[0m\u001b[0;34m(\u001b[0m\u001b[0;34m\"../data/paris_patched.ply\"\u001b[0m\u001b[0;34m,\u001b[0m\u001b[0mnp\u001b[0m\u001b[0;34m.\u001b[0m\u001b[0mhstack\u001b[0m\u001b[0;34m(\u001b[0m\u001b[0;34m(\u001b[0m\u001b[0mxyz\u001b[0m\u001b[0;34m,\u001b[0m \u001b[0mid_patches\u001b[0m\u001b[0;34m,\u001b[0m \u001b[0mlabel\u001b[0m\u001b[0;34m)\u001b[0m\u001b[0;34m)\u001b[0m\u001b[0;34m,\u001b[0m\u001b[0;34m[\u001b[0m\u001b[0;34m'x'\u001b[0m\u001b[0;34m,\u001b[0m \u001b[0;34m'y'\u001b[0m\u001b[0;34m,\u001b[0m \u001b[0;34m'z'\u001b[0m\u001b[0;34m,\u001b[0m \u001b[0;34m'patches'\u001b[0m\u001b[0;34m,\u001b[0m \u001b[0;34m'class'\u001b[0m\u001b[0;34m]\u001b[0m\u001b[0;34m)\u001b[0m\u001b[0;34m\u001b[0m\u001b[0m\n\u001b[0m",
      "\u001b[0;32m/cal/softs/anaconda/anaconda3/lib/python3.5/site-packages/numpy/core/shape_base.py\u001b[0m in \u001b[0;36mhstack\u001b[0;34m(tup)\u001b[0m\n\u001b[1;32m    278\u001b[0m         \u001b[0;32mreturn\u001b[0m \u001b[0m_nx\u001b[0m\u001b[0;34m.\u001b[0m\u001b[0mconcatenate\u001b[0m\u001b[0;34m(\u001b[0m\u001b[0marrs\u001b[0m\u001b[0;34m,\u001b[0m \u001b[0;36m0\u001b[0m\u001b[0;34m)\u001b[0m\u001b[0;34m\u001b[0m\u001b[0m\n\u001b[1;32m    279\u001b[0m     \u001b[0;32melse\u001b[0m\u001b[0;34m:\u001b[0m\u001b[0;34m\u001b[0m\u001b[0m\n\u001b[0;32m--> 280\u001b[0;31m         \u001b[0;32mreturn\u001b[0m \u001b[0m_nx\u001b[0m\u001b[0;34m.\u001b[0m\u001b[0mconcatenate\u001b[0m\u001b[0;34m(\u001b[0m\u001b[0marrs\u001b[0m\u001b[0;34m,\u001b[0m \u001b[0;36m1\u001b[0m\u001b[0;34m)\u001b[0m\u001b[0;34m\u001b[0m\u001b[0m\n\u001b[0m\u001b[1;32m    281\u001b[0m \u001b[0;34m\u001b[0m\u001b[0m\n\u001b[1;32m    282\u001b[0m \u001b[0;32mdef\u001b[0m \u001b[0mstack\u001b[0m\u001b[0;34m(\u001b[0m\u001b[0marrays\u001b[0m\u001b[0;34m,\u001b[0m \u001b[0maxis\u001b[0m\u001b[0;34m=\u001b[0m\u001b[0;36m0\u001b[0m\u001b[0;34m)\u001b[0m\u001b[0;34m:\u001b[0m\u001b[0;34m\u001b[0m\u001b[0m\n",
      "\u001b[0;31mValueError\u001b[0m: all the input arrays must have same number of dimensions"
     ]
    }
   ],
   "source": [
    "patches = pc_to_patches(xyz, 1) # very long !!!\n",
    "id_patches = patches_to_id(patches, xyz.shape[0])\n",
    "write_ply(\"../data/paris_patched.ply\",np.hstack((xyz,\n",
    "                                                 id_patches.reshape(-1,1),\n",
    "                                                 label.reshape(-1, 1))),\n",
    "          ['x', 'y', 'z', 'patches', 'class'])"
   ]
  },
  {
   "cell_type": "code",
   "execution_count": 7,
   "metadata": {
    "collapsed": false
   },
   "outputs": [],
   "source": [
    "data = read_ply('../data/paris_patched.ply')\n",
    "xyz = np.vstack((data['x'], data['y'], data['z'])).T\n",
    "y = data['class']\n",
    "id_patches = data['patches']\n",
    "#patches = id_to_dic(id_patches)"
   ]
  },
  {
   "cell_type": "code",
   "execution_count": 8,
   "metadata": {
    "collapsed": false
   },
   "outputs": [
    {
     "name": "stdout",
     "output_type": "stream",
     "text": [
      "[  0.   1.   2.   4.   9.  10.  14.  15.  19.  20.  21.  22.  23.  24.  25.]\n",
      "[ 0  1  2  4  9 10 14 15 19 20 21 22 23 24 25]\n"
     ]
    }
   ],
   "source": [
    "print(np.unique(y))\n",
    "print(np.unique(label))"
   ]
  },
  {
   "cell_type": "markdown",
   "metadata": {},
   "source": [
    "## 2]  computation of the descriptors\n",
    "Here we will compute \n",
    "### 2.1 the octree structure\n",
    "\n",
    "We will test the octree structure with a 3D sphere(gaussian law) and a cube(uniform low). We will also try for a plane and a line."
   ]
  },
  {
   "cell_type": "code",
   "execution_count": 9,
   "metadata": {
    "collapsed": false
   },
   "outputs": [
    {
     "name": "stdout",
     "output_type": "stream",
     "text": [
      "For a ball\n",
      "Number of cube per LOD : [   1.    8.   51.  204.]\n",
      "For a a cube\n",
      "Number of cube per LOD : [   1.    8.   64.  440.]\n",
      "For a line\n",
      "Number of cube per LOD : [ 1.  2.  4.  8.]\n",
      "For two lines\n",
      "Number of cube per LOD : [  1.   4.  11.  26.]\n",
      "For a horizontal plane\n",
      "Number of cube per LOD : [  1.   4.  16.  64.]\n",
      "For a diagonal plane\n",
      "Number of cube per LOD : [   1.    6.   29.  111.]\n",
      "For two planes\n",
      "Number of cube per LOD : [   1.    7.   31.  133.]\n"
     ]
    }
   ],
   "source": [
    "# LOD for a ball\n",
    "ball = np.random.randn(1000, 3)\n",
    "tree = Octree(3, ball)\n",
    "print(\"For a ball\")\n",
    "print(\"Number of cube per LOD :\", tree.divide())\n",
    "\n",
    "#LOD for a cube\n",
    "cube = np.random.rand(1000, 3)\n",
    "tree = Octree(3, cube)\n",
    "print(\"For a a cube\")\n",
    "print(\"Number of cube per LOD :\", tree.divide())\n",
    "\n",
    "#LOD for a line\n",
    "a, b = np.random.rand(2)\n",
    "x = np.random.rand(1000, 1)\n",
    "line = np.hstack((x, a*x, b*x))\n",
    "tree = Octree(3, line)\n",
    "print(\"For a line\")\n",
    "print(\"Number of cube per LOD :\", tree.divide())\n",
    "\n",
    "#LOD for two lines\n",
    "a, b = np.random.rand(2)\n",
    "x = np.random.rand(500, 1)\n",
    "line1 = np.hstack((x, a*x, b*x))\n",
    "a, b = np.random.rand(2)\n",
    "line2 = np.hstack((x, a*x, b*x))\n",
    "two_lines = np.vstack((line1, line2))\n",
    "tree = Octree(3, two_lines)\n",
    "print(\"For two lines\")\n",
    "print(\"Number of cube per LOD :\", tree.divide())\n",
    "\n",
    "\n",
    "#LOD for a horizontal plane\n",
    "a, b = np.random.rand(2)\n",
    "xy = np.random.rand(1000, 2)\n",
    "plane = np.hstack((xy, (0*xy[:, 0]+b*xy[:, 1]).reshape(-1, 1)))\n",
    "tree = Octree(3, plane)\n",
    "print(\"For a horizontal plane\")\n",
    "print(\"Number of cube per LOD :\", tree.divide())\n",
    "\n",
    "#LOD for a diagonal plane\n",
    "a, b = np.random.rand(2)\n",
    "xy = np.random.rand(1000, 2)\n",
    "plane = np.hstack((xy, (a*xy[:, 0]+b*xy[:, 1]).reshape(-1, 1)))\n",
    "tree = Octree(3, plane)\n",
    "print(\"For a diagonal plane\")\n",
    "print(\"Number of cube per LOD :\", tree.divide())\n",
    "\n",
    "#LOD for 2 planes\n",
    "\n",
    "a, b = np.random.rand(2)\n",
    "xy = np.random.rand(500, 2)\n",
    "plane1 = np.hstack((xy, (a*xy[:, 0]+b*xy[:, 1]).reshape(-1, 1)))\n",
    "a, b = np.random.rand(2)\n",
    "plane2 = np.hstack((xy, (a*xy[:, 0]+b*xy[:, 1]).reshape(-1, 1)))\n",
    "two_planes = np.vstack((plane1, plane2))\n",
    "tree = Octree(3, two_planes)\n",
    "print(\"For two planes\")\n",
    "print(\"Number of cube per LOD :\", tree.divide())\n",
    "\n",
    "\n",
    " \n"
   ]
  },
  {
   "cell_type": "code",
   "execution_count": 9,
   "metadata": {
    "collapsed": false
   },
   "outputs": [
    {
     "name": "stdout",
     "output_type": "stream",
     "text": [
      "LOD 1:\n",
      "6.0\n",
      "6.0\n",
      "6.0\n",
      "LOD 2:\n",
      "28.0\n",
      "29.0\n",
      "28.0\n",
      "LOD 3:\n",
      "110.0\n",
      "109.0\n",
      "102.0\n"
     ]
    }
   ],
   "source": [
    "# We can compute feature for each patch\n",
    "a, b = np.random.rand(2)\n",
    "xy = np.random.rand(1000, 2)\n",
    "plane = np.hstack((xy, (a*xy[:, 0]+b*xy[:, 1]).reshape(-1, 1)))\n",
    "tree = Octree(3, plane)\n",
    "ppl1 = tree.divide()\n",
    "phi1 = tree.get_phi()\n",
    "\n",
    "\n",
    "xy = 4+ np.random.rand(1000, 2)\n",
    "#a, b = np.random.rand(2)\n",
    "plane = np.hstack((xy, (4*a*xy[:, 0]+4*b*xy[:, 1]).reshape(-1, 1)))\n",
    "tree = Octree(3, plane)\n",
    "ppl2 = tree.divide()\n",
    "phi2 = tree.get_phi()\n",
    "\n",
    "#compare plan\n",
    "for i in range(1,4):\n",
    "    print(\"LOD %d:\"%i)\n",
    "    print(np.dot(phi1[i], phi1[i]))\n",
    "    print(np.dot(phi2[i], phi2[i]))\n",
    "    print(np.dot(phi1[i], phi2[i]))\n",
    "\n",
    "# seems coherent"
   ]
  },
  {
   "cell_type": "markdown",
   "metadata": {},
   "source": [
    "Conclusion : for low dimension shape, we are rather robust to count the dimensions, but for 3D objects, we need a lot of points(see the cube or the ball). For the cube, as we have some holes(because of random variables. We don't have a full precision so the estimation is not 100% exact).\n",
    "Theoretical consistency for a ball.\n",
    "\n",
    "Also the problem will be if we have two shapes in our octree. Then the dimension is harder to guess\n",
    "\n",
    "The second test is to see for each level which cube is non empty. the indexation is a bit weird. So we have to change it. We therefore have a way to compare the differents patches at each level\n",
    "\n",
    "### 2.2 the descriptors\n",
    "\n",
    "First we will labelize the patches using label binarize of sklearn"
   ]
  },
  {
   "cell_type": "code",
   "execution_count": 26,
   "metadata": {
    "collapsed": false
   },
   "outputs": [
    {
     "name": "stderr",
     "output_type": "stream",
     "text": [
      "/cal/softs/anaconda/anaconda3/lib/python3.5/site-packages/numpy/core/fromnumeric.py:973: FutureWarning: 'argmax' is deprecated. Use 'idxmax' instead. The behavior of 'argmax' will be corrected to return the positional maximum in the future. Use 'series.values.argmax' to get the position of the maximum now.\n",
      "  return argmax(axis, out)\n",
      "/cal/softs/anaconda/anaconda3/lib/python3.5/site-packages/ipykernel/__main__.py:7: FutureWarning: reshape is deprecated and will raise in a subsequent release. Please use .values.reshape(...) instead\n"
     ]
    },
    {
     "name": "stdout",
     "output_type": "stream",
     "text": [
      "0.9697603\n"
     ]
    }
   ],
   "source": [
    "# a bit long\n",
    "label_per_patch = labelize_patch(id_patches, y)\n",
    "new_label = np.zeros(y.shape[0])\n",
    "new_label = label_per_patch[id_patches]\n",
    "write_ply(\"../data/paris_patch_label.ply\",np.hstack((xyz,\n",
    "                                                    id_patches.reshape(-1,1),\n",
    "                                                   new_label.reshape(-1,1))),\n",
    "         ['x', 'y', 'z', 'patches', 'new_label'])\n",
    "print(np.sum(new_label==y)/y.shape[0])\n",
    "a = confusion_matrix(np.array(new_label).astype(int), y)"
   ]
  },
  {
   "cell_type": "code",
   "execution_count": 41,
   "metadata": {
    "collapsed": true
   },
   "outputs": [],
   "source": [
    "def plot_confusion_matrix(cm, classes,\n",
    "                          normalize=False,\n",
    "                          title='Confusion matrix',\n",
    "                          cmap=plt.cm.Blues):\n",
    "    \"\"\"\n",
    "    This function prints and plots the confusion matrix.\n",
    "    Normalization can be applied by setting `normalize=True`.\n",
    "    \"\"\"\n",
    "    if normalize:\n",
    "        cm = cm.astype('float') / cm.sum(axis=1)[:, np.newaxis]\n",
    "        print(\"Normalized confusion matrix\")\n",
    "    else:\n",
    "        print('Confusion matrix, without normalization')\n",
    "\n",
    "    plt.imshow(cm, interpolation='nearest', cmap=cmap)\n",
    "    plt.title(title)\n",
    "    plt.colorbar()\n",
    "    tick_marks = np.arange(len(classes))\n",
    "    plt.xticks(tick_marks, classes, rotation=45)\n",
    "    plt.yticks(tick_marks, classes)\n",
    "\n",
    "    fmt = '.2f' if normalize else 'd'\n",
    "    thresh = cm.max() / 2.\n",
    "    for i, j in itertools.product(range(cm.shape[0]), range(cm.shape[1])):\n",
    "        plt.text(j, i, format(cm[i, j], fmt),\n",
    "                 horizontalalignment=\"center\",\n",
    "                 color=\"white\" if cm[i, j] > thresh else \"black\")\n",
    "\n",
    "    plt.tight_layout()\n",
    "    plt.ylabel('True label')\n",
    "    plt.xlabel('Predicted label')"
   ]
  },
  {
   "cell_type": "code",
   "execution_count": 45,
   "metadata": {
    "collapsed": false
   },
   "outputs": [
    {
     "name": "stderr",
     "output_type": "stream",
     "text": [
      "/cal/softs/anaconda/anaconda3/lib/python3.5/site-packages/ipykernel/__main__.py:10: RuntimeWarning: invalid value encountered in true_divide\n"
     ]
    },
    {
     "name": "stdout",
     "output_type": "stream",
     "text": [
      "Normalized confusion matrix\n"
     ]
    },
    {
     "data": {
      "image/png": "[encoded data removed]",
      "text/plain": [
       "<matplotlib.figure.Figure at 0x7f479452b198>"
      ]
     },
     "metadata": {},
     "output_type": "display_data"
    }
   ],
   "source": [
    "# We will compute confusion matrix to see if there are big mistakes\n",
    "plt.figure(figsize=(10,10))\n",
    "plot_confusion_matrix(a, np.unique(y), True)"
   ]
  },
  {
   "cell_type": "code",
   "execution_count": 39,
   "metadata": {
    "collapsed": false
   },
   "outputs": [
    {
     "name": "stdout",
     "output_type": "stream",
     "text": [
      "9942\n",
      "[  0.   1.   2.   4.   9.  10.  14.  15.  19.  20.  21.  22.  23.  24.  25.]\n",
      "(10000000,)\n",
      "(10000000, 15)\n"
     ]
    }
   ],
   "source": [
    "# We will compute the ppl for each patches\n",
    "\n"
   ]
  }
 ],
 "metadata": {
  "kernelspec": {
   "display_name": "Python 3",
   "language": "python",
   "name": "python3"
  },
  "language_info": {
   "codemirror_mode": {
    "name": "ipython",
    "version": 3
   },
   "file_extension": ".py",
   "mimetype": "text/x-python",
   "name": "python",
   "nbconvert_exporter": "python",
   "pygments_lexer": "ipython3",
   "version": "3.5.3"
  }
 },
 "nbformat": 4,
 "nbformat_minor": 2
}
